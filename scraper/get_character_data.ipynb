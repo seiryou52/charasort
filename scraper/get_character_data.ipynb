{
 "cells": [
  {
   "cell_type": "code",
   "execution_count": 1,
   "id": "b6614910",
   "metadata": {},
   "outputs": [],
   "source": [
    "import requests\n",
    "from bs4 import BeautifulSoup"
   ]
  },
  {
   "cell_type": "markdown",
   "id": "b8a1eb87",
   "metadata": {},
   "source": [
    "* Assumes wiki is gold standard source of truth and relies on its page structure, chronology, etc."
   ]
  },
  {
   "cell_type": "code",
   "execution_count": 2,
   "id": "b8bc3696",
   "metadata": {},
   "outputs": [],
   "source": [
    "base_url = 'https://toarumajutsunoindex.fandom.com'"
   ]
  },
  {
   "cell_type": "code",
   "execution_count": 3,
   "id": "d24ee3ae",
   "metadata": {},
   "outputs": [],
   "source": [
    "INDEX = 'Toaru_Majutsu_no_Index'\n",
    "RAILGUN = 'Toaru_Kagaku_no_Railgun'\n",
    "ASTRAL_BUDDY = 'Astral_Buddy'\n",
    "ACCEL = 'Toaru_Kagaku_no_Accelerator'\n",
    "DARK_MATTER = 'Toaru_Kagaku_no_Dark_Matter'"
   ]
  },
  {
   "cell_type": "code",
   "execution_count": 11,
   "id": "3a6cc6ce",
   "metadata": {},
   "outputs": [],
   "source": [
    "def get_character_data(wiki_url, affiliation):\n",
    "    data = {\n",
    "        'name_en': '',\n",
    "        'name_jp': '',\n",
    "        'img_url': '',\n",
    "        'affiliation': affiliation,\n",
    "        'in_index': False,\n",
    "        'in_railgun': False, \n",
    "        'in_ab': False,\n",
    "        'in_accel': False,\n",
    "        'in_dm': False\n",
    "    }\n",
    "    \n",
    "    soup = BeautifulSoup(requests.get(wiki_url).text, 'html.parser')\n",
    "    name_en = soup.select('h1.page-header__title')[0].text\n",
    "    name_jp_raw = soup.find(\"div\", {\"data-source\": \"Kanji\"})\n",
    "    \n",
    "    # only get characters with both japanese and english names\n",
    "    if not name_jp_raw:\n",
    "        return None\n",
    "    \n",
    "    data['name_en'] = name_en\n",
    "    data['name_jp'] = name_jp_raw.find(\"div\", {\"class\": \"pi-data-value pi-font\"}).text\n",
    "    \n",
    "    # default image\n",
    "    default_img_url = soup.find(\"a\", {\"class\": \"image-thumbnail\"}).get('href')\n",
    "    data['img_url'] = default_img_url\n",
    "    \n",
    "    headlines = [_['id'] for _ in soup.select(\"span.mw-headline\")]\n",
    "    for headline in headlines:\n",
    "        if INDEX in headline:\n",
    "            data['in_index'] = True\n",
    "        elif RAILGUN in headline:\n",
    "            data['in_railgun'] = True\n",
    "        elif ASTRAL_BUDDY in headline:\n",
    "            data['in_ab'] = True\n",
    "        elif ACCEL in headline:\n",
    "            data['in_accel'] = True\n",
    "        elif DARK_MATTER in headline:\n",
    "            data['in_dm'] = True\n",
    "            \n",
    "    # ignore characters that are not in any of the main series/spinoffs\n",
    "    if not any([data['in_index'], data['in_railgun'], data['in_ab'], data['in_accel'], data['in_dm']]):\n",
    "        return None\n",
    "        \n",
    "    return data"
   ]
  },
  {
   "cell_type": "markdown",
   "id": "2d080968",
   "metadata": {},
   "source": [
    "* Affiliation (magic/science/other) based on wiki categorization."
   ]
  },
  {
   "cell_type": "code",
   "execution_count": 5,
   "id": "76be6f05",
   "metadata": {},
   "outputs": [],
   "source": [
    "categories = {\n",
    "    'magic': {\n",
    "        'path': '/wiki/Category:Magic_Side_Characters',\n",
    "        'char_urls': []\n",
    "    },\n",
    "    'science': {\n",
    "        'path': '/wiki/Category:Science_Side_Characters',\n",
    "        'char_urls': []\n",
    "    },\n",
    "    'other': {\n",
    "        'path': '/wiki/Category:Normal_Characters',\n",
    "        'char_urls': []\n",
    "    }\n",
    "}"
   ]
  },
  {
   "cell_type": "code",
   "execution_count": 6,
   "id": "609e98e6",
   "metadata": {},
   "outputs": [],
   "source": [
    "def get_character_pages(url, char_urls=None):\n",
    "    if char_urls is None:\n",
    "        char_urls = []\n",
    "    \n",
    "    curr_page = requests.get(url, allow_redirects=False)\n",
    "    assert(curr_page.status_code == 200)\n",
    "    \n",
    "    curr_soup = BeautifulSoup(curr_page.text, 'html.parser')\n",
    "    \n",
    "    # only get characters with pictures\n",
    "    curr_char_divs = [\n",
    "        div.find('a') for div in curr_soup.find_all(\"div\", {\"class\": \"category-page__member-left\"})\n",
    "        if 'Template_Placeholder_other.png' not in str(div)\n",
    "    ]\n",
    "    curr_char_divs = [d for d in curr_char_divs if d]\n",
    "\n",
    "    # only get characters with valid pages (& no redirects)\n",
    "    for curr_char_div in curr_char_divs:\n",
    "        curr_char_url = \"{base}{suffix}\".format(base=base_url, suffix=curr_char_div.get('href'))\n",
    "        is_valid_page = requests.get(curr_char_url, allow_redirects=False).status_code == 200\n",
    "        if not is_valid_page:\n",
    "            continue\n",
    "        char_urls.append(curr_char_url)\n",
    "\n",
    "    next_page = curr_soup.find(\"a\", {\"class\": \"category-page__pagination-next\"})\n",
    "    if next_page:\n",
    "        next_url = next_page.get(\"href\")\n",
    "        char_urls.extend(get_character_pages(next_url, char_urls))\n",
    "        \n",
    "    return char_urls"
   ]
  },
  {
   "cell_type": "code",
   "execution_count": 7,
   "id": "eb47ccfd",
   "metadata": {},
   "outputs": [],
   "source": [
    "for name, _ in categories.items():\n",
    "    category_url = base_url + _['path']\n",
    "    categories[name]['char_urls'] = get_character_pages(category_url)"
   ]
  },
  {
   "cell_type": "markdown",
   "id": "17c1fedf",
   "metadata": {},
   "source": []
  },
  {
   "cell_type": "code",
   "execution_count": 13,
   "id": "1f12e742",
   "metadata": {},
   "outputs": [
    {
     "name": "stdout",
     "output_type": "stream",
     "text": [
      "{'name_en': 'Agata', 'name_jp': 'アガター', 'img_url': 'https://static.wikia.nocookie.net/to-aru-majutsu-no-index/images/2/23/Agata_profile.jpg/revision/latest?cb=20110122092043', 'affiliation': 'magic', 'in_index': True, 'in_railgun': False, 'in_ab': False, 'in_accel': False, 'in_dm': False}\n",
      "{'name_en': 'Aihana Etsu', 'name_jp': '藍花 悦', 'img_url': 'https://static.wikia.nocookie.net/to-aru-majutsu-no-index/images/b/ba/Aihana_Etsu_ambiguous_pfp.jpg/revision/latest?cb=20200719024739', 'affiliation': 'science', 'in_index': True, 'in_railgun': True, 'in_ab': False, 'in_accel': False, 'in_dm': False}\n",
      "{'name_en': 'Charles Conder', 'name_jp': 'チャールズ＝コンダー', 'img_url': 'https://static.wikia.nocookie.net/to-aru-majutsu-no-index/images/6/6a/Charles_ConderProfile.jpg/revision/latest?cb=20101212032417', 'affiliation': 'other', 'in_index': True, 'in_railgun': False, 'in_ab': False, 'in_accel': False, 'in_dm': False}\n"
     ]
    }
   ],
   "source": [
    "for name, _ in categories.items():\n",
    "    for char_url in _['char_urls']:\n",
    "        char_data = get_character_data(char_url, name)"
   ]
  },
  {
   "cell_type": "code",
   "execution_count": 16,
   "id": "df34acd3",
   "metadata": {},
   "outputs": [
    {
     "data": {
      "text/plain": [
       "['https://toarumajutsunoindex.fandom.com/wiki/Ellis_Warrior',\n",
       " 'https://toarumajutsunoindex.fandom.com/wiki/Ladylee_Tangleroad',\n",
       " 'https://toarumajutsunoindex.fandom.com/wiki/Etzali',\n",
       " 'https://toarumajutsunoindex.fandom.com/wiki/Tsuchimikado_Motoharu',\n",
       " 'https://toarumajutsunoindex.fandom.com/wiki/Kihara_Kagun',\n",
       " 'https://toarumajutsunoindex.fandom.com/wiki/Xochitl']"
      ]
     },
     "execution_count": 16,
     "metadata": {},
     "output_type": "execute_result"
    }
   ],
   "source": [
    "list(set(categories['science']['char_urls']) & set(categories['magic']['char_urls']))"
   ]
  },
  {
   "cell_type": "code",
   "execution_count": null,
   "id": "1cc06105",
   "metadata": {},
   "outputs": [],
   "source": [
    "list(set(a) & set(b))"
   ]
  },
  {
   "cell_type": "code",
   "execution_count": null,
   "id": "f0d46f2c",
   "metadata": {},
   "outputs": [],
   "source": []
  }
 ],
 "metadata": {
  "kernelspec": {
   "display_name": "mykernel",
   "language": "python",
   "name": "mykernel"
  },
  "language_info": {
   "codemirror_mode": {
    "name": "ipython",
    "version": 3
   },
   "file_extension": ".py",
   "mimetype": "text/x-python",
   "name": "python",
   "nbconvert_exporter": "python",
   "pygments_lexer": "ipython3",
   "version": "3.8.8"
  }
 },
 "nbformat": 4,
 "nbformat_minor": 5
}
