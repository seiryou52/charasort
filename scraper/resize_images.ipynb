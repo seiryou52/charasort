{
 "cells": [
  {
   "cell_type": "code",
   "execution_count": 1,
   "id": "cc00ccff",
   "metadata": {},
   "outputs": [],
   "source": [
    "import os\n",
    "from PIL import Image, ImageOps"
   ]
  },
  {
   "cell_type": "code",
   "execution_count": 2,
   "id": "a26cd05a",
   "metadata": {},
   "outputs": [],
   "source": [
    "def resize_with_padding(img, expected_size):\n",
    "    img.thumbnail((expected_size[0], expected_size[1]))\n",
    "    delta_width = expected_size[0] - img.size[0]\n",
    "    delta_height = expected_size[1] - img.size[1]\n",
    "    pad_width = delta_width // 2\n",
    "    pad_height = delta_height // 2\n",
    "    padding = (pad_width, pad_height, delta_width - pad_width, delta_height - pad_height)\n",
    "    return ImageOps.expand(img, padding, fill='white')"
   ]
  },
  {
   "cell_type": "code",
   "execution_count": 3,
   "id": "b5bde3ad",
   "metadata": {},
   "outputs": [],
   "source": [
    "img_dir = './images'\n",
    "img_fns = [f for f in os.listdir(img_dir) if not f.endswith('txt') and not f == \".DS_Store\"]\n",
    "img_paths = [os.path.join(img_dir, f) for f in img_fns]"
   ]
  },
  {
   "cell_type": "code",
   "execution_count": 4,
   "id": "932ce2fb",
   "metadata": {},
   "outputs": [],
   "source": [
    "out_dir = '../src/assets/characters/'"
   ]
  },
  {
   "cell_type": "code",
   "execution_count": 6,
   "id": "29b2f25e",
   "metadata": {},
   "outputs": [],
   "source": [
    "for i, path in enumerate(img_paths):\n",
    "    img = Image.open(path)\n",
    "    img = resize_with_padding(img, (120, 180))\n",
    "    out_fn = img_fns[i]\n",
    "    img.save('{out_dir}{out_fn}.png'.format(out_dir=out_dir, out_fn=out_fn))"
   ]
  },
  {
   "cell_type": "markdown",
   "id": "89611f94",
   "metadata": {},
   "source": [
    "latest?cb= -> latest%3Fcb%3D"
   ]
  }
 ],
 "metadata": {
  "kernelspec": {
   "display_name": "mykernel",
   "language": "python",
   "name": "mykernel"
  },
  "language_info": {
   "codemirror_mode": {
    "name": "ipython",
    "version": 3
   },
   "file_extension": ".py",
   "mimetype": "text/x-python",
   "name": "python",
   "nbconvert_exporter": "python",
   "pygments_lexer": "ipython3",
   "version": "3.8.8"
  }
 },
 "nbformat": 4,
 "nbformat_minor": 5
}
